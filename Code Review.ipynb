{
 "cells": [
  {
   "cell_type": "code",
   "execution_count": 4,
   "id": "e71162c3-6db4-4ed8-9067-e14809218042",
   "metadata": {},
   "outputs": [
    {
     "ename": "TypeError",
     "evalue": "'str' object does not support item assignment",
     "output_type": "error",
     "traceback": [
      "\u001b[1;31m---------------------------------------------------------------------------\u001b[0m",
      "\u001b[1;31mTypeError\u001b[0m                                 Traceback (most recent call last)",
      "Cell \u001b[1;32mIn[4], line 14\u001b[0m\n\u001b[0;32m      2\u001b[0m \u001b[38;5;124;03m'''\u001b[39;00m\n\u001b[0;32m      3\u001b[0m \u001b[38;5;124;03mOh no! My string has a typo!\u001b[39;00m\n\u001b[0;32m      4\u001b[0m \u001b[38;5;124;03mstring = \"I Bove python\"\u001b[39;00m\n\u001b[1;32m   (...)\u001b[0m\n\u001b[0;32m     10\u001b[0m \u001b[38;5;124;03m3) Yeah that'll work. \"I Love python\" \u001b[39;00m\n\u001b[0;32m     11\u001b[0m \u001b[38;5;124;03m'''\u001b[39;00m\n\u001b[0;32m     13\u001b[0m string \u001b[38;5;241m=\u001b[39m \u001b[38;5;124m\"\u001b[39m\u001b[38;5;124mI Bove python\u001b[39m\u001b[38;5;124m\"\u001b[39m\n\u001b[1;32m---> 14\u001b[0m \u001b[43mstring\u001b[49m\u001b[43m[\u001b[49m\u001b[38;5;241;43m2\u001b[39;49m\u001b[43m]\u001b[49m \u001b[38;5;241m=\u001b[39m \u001b[38;5;124m\"\u001b[39m\u001b[38;5;124mL\u001b[39m\u001b[38;5;124m\"\u001b[39m\n\u001b[0;32m     15\u001b[0m \u001b[38;5;28mprint\u001b[39m(string)\n",
      "\u001b[1;31mTypeError\u001b[0m: 'str' object does not support item assignment"
     ]
    }
   ],
   "source": [
    "#Simple Data Types- Question 6\n",
    "'''\n",
    "Oh no! My string has a typo!\n",
    "string = \"I Bove python\"\n",
    "No worries though. I'll just fix that.\n",
    "string[2]=\"L\"\n",
    "\n",
    "1) It'll work, but you've got the wrong one. That'll make \"ILBove python\". \n",
    "2) No it won't work at all. \n",
    "3) Yeah that'll work. \"I Love python\" \n",
    "'''\n",
    "\n",
    "string = \"I Bove python\"\n",
    "string[2] = \"L\"\n",
    "print(string)\n"
   ]
  },
  {
   "cell_type": "code",
   "execution_count": 5,
   "id": "b43253b5-94c8-4c85-a520-833b4434bdf9",
   "metadata": {},
   "outputs": [
    {
     "name": "stdout",
     "output_type": "stream",
     "text": [
      "[1, 2, 3, 4, 5]\n"
     ]
    }
   ],
   "source": [
    "#String objects are immutable! Meaning you can't adjust or modify the variable after it has been created.\n",
    "#Some types, such as lists, are mutable\n",
    "\n",
    "list = [1,2,6,4,5]\n",
    "list[2] = 3\n",
    "print(list)"
   ]
  },
  {
   "cell_type": "code",
   "execution_count": 9,
   "id": "6bb72eb0-3d20-4a43-b0dd-72e48c6e2d4a",
   "metadata": {},
   "outputs": [
    {
     "name": "stdout",
     "output_type": "stream",
     "text": [
      "I Love python\n"
     ]
    }
   ],
   "source": [
    "#Even though strings are immutable, you can get around that by making a copy of the variable and modifying that instead\n",
    "\n",
    "string = \"I Bove python\"\n",
    "string2 = string.replace(\"B\", \"L\")\n",
    "print(string2)\n"
   ]
  },
  {
   "cell_type": "code",
   "execution_count": null,
   "id": "a8cd7d9c-0550-46cf-99b8-b0327f517a34",
   "metadata": {},
   "outputs": [],
   "source": []
  }
 ],
 "metadata": {
  "kernelspec": {
   "display_name": "Python 3 (ipykernel)",
   "language": "python",
   "name": "python3"
  },
  "language_info": {
   "codemirror_mode": {
    "name": "ipython",
    "version": 3
   },
   "file_extension": ".py",
   "mimetype": "text/x-python",
   "name": "python",
   "nbconvert_exporter": "python",
   "pygments_lexer": "ipython3",
   "version": "3.12.7"
  }
 },
 "nbformat": 4,
 "nbformat_minor": 5
}
