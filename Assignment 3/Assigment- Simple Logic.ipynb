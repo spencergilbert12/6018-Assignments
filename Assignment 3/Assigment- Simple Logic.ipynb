{
 "cells": [
  {
   "cell_type": "code",
   "execution_count": 89,
   "id": "43c61910",
   "metadata": {},
   "outputs": [
    {
     "name": "stdout",
     "output_type": "stream",
     "text": [
      "8\n",
      "[19, 45, 7, 27, 36, 18, 17, 20, 29, 14, 22, 8, 45, 36, 63, 25, 11, 10, 90, 4, 18, 72, 54, 63, 28, 22, 13, 19, 4, 23]\n",
      "['a', 20, 23, 29, 10, 'a', 30, 13, 2, 11, 'a', 9, 2, 30, 27, 'a', 11, 20, 19, 1, 'a', 10, 8, 6, 16, 'a', 25, 5, 10, 24]\n",
      "[21, 26, 25, 1, 24, 10, 27, 8, 23, 4, 10, 22, 1, 3, 7, 16, 18, 29, 11, 4, 1, 29, 10, 16, 10, 10, 2, 26, 26, 7, 10, 10, 6, 25, 4, 7, 12, 24, 5, 8, 23, 16, 8, 3, 16, 1, 9, 4, 27, 26, 9, 25, 7, 14, 27, 21, 27, 28, 2, 2, 27, 22, 3, 23, 14, 16, 10, 12, 14, 8, 10, 5, 16, 12, 24, 3, 28, 9, 21, 7, 25, 9, 5, 3, 27, 7, 29, 25, 13, 11, 25, 21, 2, 14, 8, 17, 18, 23, 22, 12, 8]\n"
     ]
    }
   ],
   "source": [
    "# Logical Processing Homework\n",
    "\n",
    "# Problem 1 Stacking logical operators\n",
    "\n",
    "influenza_genome = [19, 15, 7, 9, 12, 6, 17, 20, 29, 14, 22, 8, 15, 12, 21, 25, 11, 10, 30, 4, 6, 24, 18, 21, 28, 22, 13, 19, 4, 23, 16, 25, 13, 28, 16, 29, 4, 3, 25, 13, 10, 26, 26, 18, 25, 28, 24, 18, 3, 9, 11, 29, 30, 16, 24, 5, 5, 25, 14, 7, 1, 15, 6, 6, 19, 19, 15, 2, 14, 7, 21, 5, 26, 25, 18, 18, 9, 7, 27, 4, 1, 23, 30, 25, 24, 29, 11, 16, 20, 15, 2, 9, 8, 13, 1, 13, 5, 17, 29, 25, 16, 13, 3, 30, 10, 21, 9, 18, 20, 14, 20, 19, 6, 4, 20, 5, 14, 5, 12, 27, 18, 28, 13, 30, 6, 9, 12, 9, 29, 4, 14, 22, 7, 25, 11, 12, 5, 24, 6, 3, 8, 3, 20, 24, 8, 23, 22, 11, 22, 10, 13, 14, 2, 6, 22, 22, 7, 6, 18, 28, 25, 4, 6, 24, 10, 24, 15, 18, 12, 24, 10, 16, 24, 21, 19, 24, 8, 8, 8, 10, 8, 15, 26, 14, 21, 18, 6, 10, 23, 2, 20, 15, 1, 4, 20, 8, 6, 1, 4, 15, 21, 26, 25, 1, 24, 15, 27, 8, 23, 4, 30, 22, 1, 3, 7, 16, 18, 29, 11, 4, 1, 29, 30, 16, 30, 10, 2, 26, 26, 7, 10, 15, 6, 25, 4, 7, 12, 24, 5, 8, 23, 16, 8, 3, 16, 1, 9, 4, 27, 26, 9, 25, 7, 14, 27, 21, 27, 28, 2, 2, 27, 22, 3, 23, 14, 16, 30, 12, 14, 8, 10, 5, 16, 12, 24, 3, 28, 9, 21, 7, 25, 9, 5, 3, 27, 7, 29, 25, 13, 11, 25, 21, 2, 14, 8, 17, 18, 23, 22, 12, 7, 26, 11, 25, 1, 23, 9, 12, 2, 4, 17, 27, 9, 13, 19, 15, 10, 12, 21, 25, 5, 1, 16, 17, 28, 23, 18, 10, 15, 18, 1, 11, 14, 10, 18, 12, 1, 23, 23, 25, 13, 27, 27, 6, 9, 11, 23, 6, 23, 14, 9, 15, 11, 24, 11, 29, 18, 6, 19, 16, 14, 26, 2, 14, 15, 25, 6, 21, 23, 25, 27, 5, 1, 17, 4, 7, 18, 8, 9, 10, 5, 21, 29, 9, 6, 2, 22, 12, 1, 13, 19, 6, 17, 21, 22, 26, 21, 10, 29, 8, 13, 10, 29, 6, 29, 16, 30, 5, 25, 14, 15, 15, 9, 24, 13, 5, 28, 18, 11, 21, 15, 12, 5, 16, 5, 29, 29, 29, 3, 10, 24, 16, 16, 12, 14, 6, 22, 21, 10, 10, 2, 14, 9, 29, 29, 2, 26, 11, 6, 7, 28, 10, 3, 24, 30, 2, 23, 9, 29, 27, 19, 1, 15, 11, 5, 7, 9, 26, 28, 27, 10, 20, 23, 29, 10, 15, 30, 13, 2, 11, 5, 9, 2, 30, 27, 14, 11, 20, 19, 1, 12, 10, 8, 6, 16, 3, 25, 5, 10, 24]\n",
    "# Given the array influenza_genome, write code that uses for loops and if statements to do the following and print the results(see below for instructions):\n",
    "\n",
    "# 1.1 add 1 to the value at the index 300.\n",
    "\n",
    "if influenza_genome[300]:        #this line will target the indexed element at 300\n",
    "    influenza_genome[300] += 1   #this line will add 1 to the element indexed at 300\n",
    "\n",
    "print(influenza_genome[300])\n",
    "\n",
    "# 1.2 for the first 30 elements, if the value of the element is divisable by 3, multiply the value by 3.\n",
    "\n",
    "for i in range(30):                  #this line searches for the first 30 values in the array\n",
    "    if influenza_genome[i] % 3 == 0: #this line will target only the values that are divisible by 3\n",
    "        influenza_genome[i] *= 3     #this line will times the values by 3\n",
    "\n",
    "print(influenza_genome[:30])\n",
    "\n",
    "# 1.3 for the last 30 elements, if the index value at that point is divisable by 5, replace the value with \"a\".\n",
    "\n",
    "for i in range(len(influenza_genome) - 30, len(influenza_genome)): #this line will search the last 30 values in the array\n",
    "    if i % 5 == 0:                                                 #this line will target online the values that are indexed at a position that is divisible by 5\n",
    "        influenza_genome[i] = \"a\"                                  #this line will replace the values with the letter \"a\"\n",
    "\n",
    "print(influenza_genome[-30:])\n",
    "\n",
    "# 1.4 for all elements between index 200 and 300, if the value of the element is divisable by BOTH 3 AND 5, replace the value with a 10.\n",
    "\n",
    "for i in range(200, 301):                                             #this line will search values between 200 and 300 (301 will not be included)\n",
    "    if influenza_genome[i] % 5 == 0 and influenza_genome[i] % 3 == 0: #this line will find values that are both divisible by 5 and 3\n",
    "        influenza_genome[i] = 10                                      #this line will replace the values with a 10 if they meet the criteria\n",
    "\n",
    "print(influenza_genome[200:301])\n",
    "\n",
    "# Only print the section of the array that is modified after completing each operation. i.e only print index 300 of the array after 1.1 and only the first 30 elements after 1.2"
   ]
  },
  {
   "cell_type": "code",
   "execution_count": 90,
   "id": "09badf7b-4434-45a9-84aa-887332cf9db6",
   "metadata": {},
   "outputs": [
    {
     "name": "stdout",
     "output_type": "stream",
     "text": [
      "4\n",
      "7\n",
      "12\n",
      "24\n",
      "4\n",
      "7\n",
      "12\n",
      "24\n",
      "4\n",
      "7\n",
      "12\n",
      "12\n",
      "12\n",
      "12\n",
      "12\n",
      "12\n",
      "12\n",
      "24\n"
     ]
    }
   ],
   "source": [
    "# Problem 2 Loops within loops\n",
    "# Given the array influenza_genome, write code using both for and while loops that:\n",
    "\n",
    "# 2.1 Create a for loop that iterates over items index 234 through 237 and prints each value (ie there should be 4 items)\n",
    "\n",
    "for i in range(234, 238):      #this line will search for the values 234-237 (238 will not be included)\n",
    "    print(influenza_genome[i]) #this line will print the values\n",
    "\n",
    "# 2.2 Create a while loop that iterates over items index 234 through 237 and prints each value (ie there should be 4 items)\n",
    "\n",
    "i = 234                        #this line sets the starting point at 234\n",
    "\n",
    "while i <=237:                 #this line sets the condition to continue as long as the index is equal to or less than 237\n",
    "    print(influenza_genome[i]) #this line prints the values\n",
    "    i += 1                     #this line will add one to the index after each iteration\n",
    "\n",
    "# 2.3 Create a for loop that iterates over items index 234 through 237 and if the index is 236 print the item 7 times.\n",
    "\n",
    "for i in range(234, 238):              #this line will set the range to iterate over the range 234-237\n",
    "    if i == 236:                       #this line will set activate the following only if the index is 236\n",
    "        for x in range(7):             #this line will will make the following repeat 7 times\n",
    "            print(influenza_genome[i]) #this line will print the value\n",
    "    else:                              #this line will activate for an index that isn't 236\n",
    "        print(influenza_genome[i])     #this line will print the value"
   ]
  },
  {
   "cell_type": "code",
   "execution_count": 92,
   "id": "db6de392-c8ea-422c-ad0b-dc03993e4e9e",
   "metadata": {},
   "outputs": [
    {
     "name": "stdout",
     "output_type": "stream",
     "text": [
      "[19, 22, 11, 18, 16, 9, 13, 24, 21, 10]\n",
      "[19, 22, 18, 16, 10, 11, 1, 21, 1, 2, 16, 20, 18, 14, 8, 13, 25, 10, 8, 20]\n",
      "[19, 18, 10, 1, 1, 16, 18, 8, 25, 8]\n"
     ]
    }
   ],
   "source": [
    "# Problem 3 Functions\n",
    "# You are going to implement 3 funtions that will process the influenza_genome list in various ways.\n",
    "\n",
    "# 3.1 write a function, that takes in the array as an argument, and outputs 10 values from the dataset, spaced out by indexes that are 25 apart (ie 0, 25, 50, etc)\n",
    "\n",
    "def skip_25(array):                   #define the function skip25\n",
    "    results_1 = []                    #create an empty array to fill with the values\n",
    "    for i in range(0, 10*25, 25):     #Set the range to search from between 0-250, skipping by 25\n",
    "        results_1.append(array[i])    #Add the results to the results array\n",
    "\n",
    "    return results_1                  #return results\n",
    "    \n",
    "three_one = skip_25(influenza_genome) #Create a variable that will equal the function when run with influenza_genome           \n",
    "print(three_one)                      #print results\n",
    "\n",
    "# 3.2 write a function that takes in the dataset as an argument and outputs 20 values from the dataset, spaced out by indexes that are y apart (ie you can decide how far apart they should be iterated as long as they dont exceed the length of the dataset)\n",
    "\n",
    "def skip_y(dataset, y):                  #Define the function skip_y\n",
    "    results_2 = []                       #Create an empty array to fill with values\n",
    "    for i in range(0, 20*y, y):          #Search the range from 0 to 20*y, skipping by y\n",
    "        results_2.append(dataset[i])     #Add the results to the results array\n",
    "\n",
    "    return results_2                     #return results\n",
    "\n",
    "three_two = skip_y(influenza_genome, 10) #create a variable that will equal the function when run with influenza_genome\n",
    "print(three_two)                         #print results\n",
    "\n",
    "# 3.3 write a function that takes the output from the function from 3.2 as an argument, then only prints out every other item (ie there should only be 10 outputs)\n",
    "\n",
    "def skip_every_other(data):               #Define the function skip_every_other\n",
    "    results_3 = []                        #Create an empty array to fill with values\n",
    "    for i in range(0, len(three_two), 2): #Search the range from 0 to the length of variables in three_two\n",
    "        results_3.append(data[i])         #Add the results to the results arrary\n",
    "\n",
    "    return results_3 #return results\n",
    "\n",
    "three_three = skip_every_other(three_two) #Define the variable three_three\n",
    "print(three_three)                        #print results"
   ]
  },
  {
   "cell_type": "code",
   "execution_count": 93,
   "id": "c51d2bf8-fb5e-464f-831d-46e825eec59a",
   "metadata": {},
   "outputs": [
    {
     "name": "stdout",
     "output_type": "stream",
     "text": [
      "4\n",
      "7\n",
      "12\n",
      "12\n",
      "12\n",
      "12\n",
      "12\n",
      "12\n",
      "12\n",
      "24\n"
     ]
    }
   ],
   "source": [
    "# Problem 4 Putting it all together\n",
    "# Write a function that implements the code from problem 1.4, then implements the code from problem 2.3\n",
    "\n",
    "def all_together(dataset1):\n",
    "    for i in range(200, 301):                                             #this line will search values between 200 and 300 (301 will not be included)\n",
    "        if influenza_genome[i] % 5 == 0 and influenza_genome[i] % 3 == 0: #this line will find values that are both divisible by 5 and 3\n",
    "            influenza_genome[i] = 10\n",
    "    for i in range(234, 238):                                             #this line will set the range to iterate over the range 234-237\n",
    "        if i == 236:                                                      #this line will set activate the following only if the index is 236\n",
    "            for x in range(7):                                            #this line will will make the following repeat 7 times\n",
    "                print(influenza_genome[i])                                    #this line will print the value\n",
    "        else:                                                             #this line will activate for an index that isn't 236\n",
    "            print(influenza_genome[i]) \n",
    "\n",
    "all_together(influenza_genome)\n",
    "# The function should create a modified version of the influenza_genome list as per 1.4, then print the section described in problem 2.3 "
   ]
  },
  {
   "cell_type": "code",
   "execution_count": null,
   "id": "d5d0f78c-6627-42ae-ad31-2410ab4cd499",
   "metadata": {},
   "outputs": [],
   "source": []
  }
 ],
 "metadata": {
  "kernelspec": {
   "display_name": "Python 3 (ipykernel)",
   "language": "python",
   "name": "python3"
  },
  "language_info": {
   "codemirror_mode": {
    "name": "ipython",
    "version": 3
   },
   "file_extension": ".py",
   "mimetype": "text/x-python",
   "name": "python",
   "nbconvert_exporter": "python",
   "pygments_lexer": "ipython3",
   "version": "3.12.5"
  },
  "vscode": {
   "interpreter": {
    "hash": "acb7b9ebd37b6fa8637fd3027108c77b651ce6aaaec9072fd616444dc2b10c19"
   }
  }
 },
 "nbformat": 4,
 "nbformat_minor": 5
}
