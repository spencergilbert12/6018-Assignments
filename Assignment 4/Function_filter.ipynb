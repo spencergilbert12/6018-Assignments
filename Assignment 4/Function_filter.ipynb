{
 "cells": [
  {
   "cell_type": "code",
   "execution_count": 1,
   "id": "9f094186-8263-4c97-9e6e-13c9dd7be65d",
   "metadata": {},
   "outputs": [
    {
     "data": {
      "text/plain": [
       "[1, 2, 3, 4, 5, 6]"
      ]
     },
     "execution_count": 1,
     "metadata": {},
     "output_type": "execute_result"
    }
   ],
   "source": [
    "#Problem 3\n",
    "\"\"\"\n",
    "Write a python program that, given an input list, will filter the input above a user defined threshold. This is to be done with a standard function.\n",
    "That is, given a list [1,2,3,4,5,6,7,8,9], and an argument (6), it should return [1,2,3,4,5,6]\n",
    "\"\"\"\n",
    "def filter_to_threshold(given_list, threshold): #this line defines the function\n",
    "    t = threshold                               #this line assigns the variable t to the threshold argument\n",
    "    result = []                                 #this line creates an empty list for the results\n",
    "    for x in range(len(given_list)):            #this line creates a loop to continue testing indices\n",
    "        if x < t:                               #this line will identify indices that are less than the threshold\n",
    "            result.append(given_list[x])        #this line will add the value of the index to the results list if it is less than the threshold\n",
    "        else:                                   #this line will activate if the index is not less than the threshold\n",
    "            return result                       #this line will return the completed results list when the index is no longer less than the threshold\n",
    "    print(result)                               #this line prints the results\n",
    "            \n",
    "\n",
    "filter_to_threshold([1,2,3,4,5,6,7,8,9], 6)     #this line allows you to input the list and threshold argument."
   ]
  },
  {
   "cell_type": "code",
   "execution_count": null,
   "id": "b9d64122-0915-4b14-abb0-395ecf5282bb",
   "metadata": {},
   "outputs": [],
   "source": []
  }
 ],
 "metadata": {
  "kernelspec": {
   "display_name": "Python 3 (ipykernel)",
   "language": "python",
   "name": "python3"
  },
  "language_info": {
   "codemirror_mode": {
    "name": "ipython",
    "version": 3
   },
   "file_extension": ".py",
   "mimetype": "text/x-python",
   "name": "python",
   "nbconvert_exporter": "python",
   "pygments_lexer": "ipython3",
   "version": "3.12.5"
  }
 },
 "nbformat": 4,
 "nbformat_minor": 5
}
