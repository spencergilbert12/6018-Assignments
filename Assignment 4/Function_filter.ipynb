{
 "cells": [
  {
   "cell_type": "code",
   "execution_count": 2,
   "id": "9f094186-8263-4c97-9e6e-13c9dd7be65d",
   "metadata": {},
   "outputs": [
    {
     "data": {
      "text/plain": [
       "[6, 2, 3, 4, 5, 6, 6]"
      ]
     },
     "execution_count": 2,
     "metadata": {},
     "output_type": "execute_result"
    }
   ],
   "source": [
    "#Problem 3\n",
    "\"\"\"\n",
    "Write a python program that, given an input list, will filter the input above a user defined threshold. This is to be done with a standard function.\n",
    "That is, given a list [1,2,3,4,5,6,7,8,9], and an argument (6), it should return [1,2,3,4,5,6]\n",
    "\"\"\"\n",
    "#I took this problem to mean that you should filter out all values (\"input\") above a certain threshold.\n",
    "\n",
    "def filter_to_threshold(given_list, threshold): #this line defines the function                              \n",
    "    result = []                                 #this line creates a list for the results                              \n",
    "    for x in given_list:                        #this line creates a for loop\n",
    "        if x <= threshold:                      #this line searches for values that are equal to or less than the value of the threshold\n",
    "            result.append(x)                    #this line adds the results to the created results list\n",
    "    return result                               #this line returns the results\n",
    "            \n",
    "\n",
    "filter_to_threshold([6,2,3,4,5,6,7,8,6], 6)     #this line defines the argument"
   ]
  },
  {
   "cell_type": "code",
   "execution_count": null,
   "id": "b9d64122-0915-4b14-abb0-395ecf5282bb",
   "metadata": {},
   "outputs": [],
   "source": []
  }
 ],
 "metadata": {
  "kernelspec": {
   "display_name": "Python 3 (ipykernel)",
   "language": "python",
   "name": "python3"
  },
  "language_info": {
   "codemirror_mode": {
    "name": "ipython",
    "version": 3
   },
   "file_extension": ".py",
   "mimetype": "text/x-python",
   "name": "python",
   "nbconvert_exporter": "python",
   "pygments_lexer": "ipython3",
   "version": "3.12.5"
  }
 },
 "nbformat": 4,
 "nbformat_minor": 5
}
