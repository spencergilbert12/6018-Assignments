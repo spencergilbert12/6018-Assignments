{
 "cells": [
  {
   "cell_type": "code",
   "execution_count": 1,
   "id": "6156cf04-d216-403a-a27c-1e4bac74a466",
   "metadata": {},
   "outputs": [
    {
     "name": "stdout",
     "output_type": "stream",
     "text": [
      "[6, 7]\n"
     ]
    }
   ],
   "source": [
    "#Problem 2\n",
    "\"\"\"\n",
    "Write the a python program that, given an input list of any level of complexity/nestedness, will return the inner most list plus 1. This is to be done with recursion. Note: the input will contain only integers or lists. \n",
    "\"\"\"\n",
    "def recursive_innermost_plus_one(data):             #this line defines the function\n",
    "    for x in data:                                  #this line creates a for loop\n",
    "        if isinstance(x, list):                     #this line evaluates if the object is a list\n",
    "            return recursive_innermost_plus_one(x)  #if the object was a list, the line will run the function again to see if there are more lists inside that list\n",
    "    result2 = [x + 1 for x in data]                 #this line adds 1 to the innermost list\n",
    "    print(result2)                                  #this line prints the results\n",
    "\n",
    "recursive_innermost_plus_one([1,2,[3,4,[5,6],7,8]]) #this line provides the argument"
   ]
  },
  {
   "cell_type": "code",
   "execution_count": null,
   "id": "01f6440d-2802-4d61-8e61-b9dee74f8d7d",
   "metadata": {},
   "outputs": [],
   "source": []
  }
 ],
 "metadata": {
  "kernelspec": {
   "display_name": "Python 3 (ipykernel)",
   "language": "python",
   "name": "python3"
  },
  "language_info": {
   "codemirror_mode": {
    "name": "ipython",
    "version": 3
   },
   "file_extension": ".py",
   "mimetype": "text/x-python",
   "name": "python",
   "nbconvert_exporter": "python",
   "pygments_lexer": "ipython3",
   "version": "3.12.5"
  }
 },
 "nbformat": 4,
 "nbformat_minor": 5
}
