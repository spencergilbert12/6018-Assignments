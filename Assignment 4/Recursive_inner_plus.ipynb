{
 "cells": [
  {
   "cell_type": "code",
   "execution_count": 2,
   "id": "6156cf04-d216-403a-a27c-1e4bac74a466",
   "metadata": {},
   "outputs": [
    {
     "data": {
      "text/plain": [
       "[31, 32]"
      ]
     },
     "execution_count": 2,
     "metadata": {},
     "output_type": "execute_result"
    }
   ],
   "source": [
    "#Problem 2\n",
    "\"\"\"\n",
    "Write the a python program that, given an input list of any level of complexity/nestedness, will return the inner most list plus 1. This is to be done with recursion. Note: the input will contain only integers or lists. \n",
    "\"\"\"\n",
    "def recursive_innermost_plus_one(data):                             #this line defines the function\n",
    "    current_list = []                                               #this line creates a list\n",
    "    for x in data:                                                  #this line creates a for loop\n",
    "        if isinstance(x, list):                                     #this line creates a condition if the element is a list\n",
    "            for z in x:                                             #this line searches each element of the found list\n",
    "                current_list.append(z)                              #this line adds each element to the created list\n",
    "    if any(isinstance(x, list) for x in current_list):              #this line searches for if there are any lists left within the current_list\n",
    "        return recursive_innermost_plus_one(current_list)           #this line will repeat the function if any lists are still leftover\n",
    "    else:\n",
    "        result = [x + 1 for x in current_list]                      #this line will add 1 to all elements in the innermost list\n",
    "        return result                                               #this line returns the results                               \n",
    "\n",
    "recursive_innermost_plus_one([1,2,[3,4,7,8],[5,6,[[30,31],20,21]]]) #this line defines the argument"
   ]
  },
  {
   "cell_type": "code",
   "execution_count": null,
   "id": "01f6440d-2802-4d61-8e61-b9dee74f8d7d",
   "metadata": {},
   "outputs": [],
   "source": []
  }
 ],
 "metadata": {
  "kernelspec": {
   "display_name": "Python 3 (ipykernel)",
   "language": "python",
   "name": "python3"
  },
  "language_info": {
   "codemirror_mode": {
    "name": "ipython",
    "version": 3
   },
   "file_extension": ".py",
   "mimetype": "text/x-python",
   "name": "python",
   "nbconvert_exporter": "python",
   "pygments_lexer": "ipython3",
   "version": "3.12.5"
  }
 },
 "nbformat": 4,
 "nbformat_minor": 5
}
