{
 "cells": [
  {
   "cell_type": "code",
   "execution_count": 2,
   "id": "fc2c0846-075b-4f8c-88d7-ec8974094432",
   "metadata": {},
   "outputs": [
    {
     "data": {
      "text/plain": [
       "[31, 32, 33, 34]"
      ]
     },
     "execution_count": 2,
     "metadata": {},
     "output_type": "execute_result"
    }
   ],
   "source": [
    "#Problem 1\n",
    "\"\"\"\n",
    "Write a python program that, given an input list of any level of complexity/nestedness, will return the inner most list plus 1. This is to be done with a while loop. Note: the input will contain only integers or lists. \n",
    "As an example:\n",
    "\n",
    "input_list = [1,2,3,4,[5,6,7,[8,9]]]\n",
    "\n",
    "your_py_program.py input_list\n",
    "\n",
    "will produce:\n",
    "\n",
    "[9,10]\n",
    "\n",
    "That is [8, 9] (the inner most list) plus 1 -> [9, 10]\n",
    "\"\"\"\n",
    "\n",
    "def while_innermost_plus_one(input_list):                 #this line defines the function\n",
    "    current_list = input_list                             #this line creates a list equal to the input\n",
    "    while any(isinstance(x, list) for x in current_list): #this line creates a while condition to continue searching the input until there are no more lists\n",
    "        another_list = []                                 #this line creates a list for the results\n",
    "        for n in current_list:                            #this line searches the input                        \n",
    "            if isinstance(n, list):                       #this line creates a condition if the for loop finds a list\n",
    "                for z in n:                               #this line searches the elements of the found list\n",
    "                    another_list.append(z)                #this line will add elements to the new list\n",
    "        current_list = another_list                       #this line will make the old list equal to the new list so that the while loop can be run again if there are more lists in the list\n",
    "          \n",
    "    result1 = [y + 1 for y in current_list]               #this line adds 1 to all the elements in the innermost list             \n",
    "    return result1                                        #this line returns the result                                    \n",
    "\n",
    "while_innermost_plus_one([1,2,[3,4,7,8],[5,6,[[30,31],20,21,[32,33]]]])   #this line defines the argument"
   ]
  },
  {
   "cell_type": "code",
   "execution_count": null,
   "id": "9b05e63c-ca25-4091-971f-93b9c87914a4",
   "metadata": {},
   "outputs": [],
   "source": []
  }
 ],
 "metadata": {
  "kernelspec": {
   "display_name": "Python 3 (ipykernel)",
   "language": "python",
   "name": "python3"
  },
  "language_info": {
   "codemirror_mode": {
    "name": "ipython",
    "version": 3
   },
   "file_extension": ".py",
   "mimetype": "text/x-python",
   "name": "python",
   "nbconvert_exporter": "python",
   "pygments_lexer": "ipython3",
   "version": "3.12.5"
  }
 },
 "nbformat": 4,
 "nbformat_minor": 5
}
