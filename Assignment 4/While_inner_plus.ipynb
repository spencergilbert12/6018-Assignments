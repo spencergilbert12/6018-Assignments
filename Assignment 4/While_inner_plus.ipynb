{
 "cells": [
  {
   "cell_type": "code",
   "execution_count": 1,
   "id": "fc2c0846-075b-4f8c-88d7-ec8974094432",
   "metadata": {},
   "outputs": [
    {
     "name": "stdout",
     "output_type": "stream",
     "text": [
      "[6, 7]\n"
     ]
    }
   ],
   "source": [
    "#Problem 1\n",
    "\"\"\"\n",
    "Write a python program that, given an input list of any level of complexity/nestedness, will return the inner most list plus 1. This is to be done with a while loop. Note: the input will contain only integers or lists. \n",
    "As an example:\n",
    "\n",
    "input_list = [1,2,3,4,[5,6,7,[8,9]]]\n",
    "\n",
    "your_py_program.py input_list\n",
    "\n",
    "will produce:\n",
    "\n",
    "[9,10]\n",
    "\n",
    "That is [8, 9] (the inner most list) plus 1 -> [9, 10]\n",
    "\"\"\"\n",
    "\n",
    "def while_innermost_plus_one(input_list):               #this line will define the function \n",
    "    while any(isinstance(x, list) for x in input_list): #this line will continue searching as long as a list is contained within the input_list\n",
    "        for n in input_list:                            #this line will evaluate each object to see if it is an integer or a list\n",
    "            if isinstance(n, list):                     #this line will set the following condition to activate if the object in the list is a list\n",
    "                input_list = n                          #this line assigns input_list to the new list within the list\n",
    "                break                                   #this line breaks out of the for loop to assess if the while statement is still correct\n",
    "          \n",
    "    result1 = [y + 1 for y in input_list]               #this line will add 1 to each integer in the innermost list\n",
    "    print(result1)                                      #this line prints the results\n",
    "\n",
    "while_innermost_plus_one([1,2,[3,4,[5,6],7,8]])         #this line provides the argument"
   ]
  },
  {
   "cell_type": "code",
   "execution_count": null,
   "id": "9b05e63c-ca25-4091-971f-93b9c87914a4",
   "metadata": {},
   "outputs": [],
   "source": []
  }
 ],
 "metadata": {
  "kernelspec": {
   "display_name": "Python 3 (ipykernel)",
   "language": "python",
   "name": "python3"
  },
  "language_info": {
   "codemirror_mode": {
    "name": "ipython",
    "version": 3
   },
   "file_extension": ".py",
   "mimetype": "text/x-python",
   "name": "python",
   "nbconvert_exporter": "python",
   "pygments_lexer": "ipython3",
   "version": "3.12.5"
  }
 },
 "nbformat": 4,
 "nbformat_minor": 5
}
