{
 "cells": [
  {
   "cell_type": "code",
   "execution_count": 4,
   "id": "b389d6ce-12ba-4f70-8d14-e16865141894",
   "metadata": {},
   "outputs": [
    {
     "name": "stdout",
     "output_type": "stream",
     "text": [
      "The Euclidean distance is: 18.16590212458495\n"
     ]
    }
   ],
   "source": [
    "#Question 1 \n",
    "#Compute the euclidean distance between series (points) p and q, without using a packaged formula.\n",
    "\n",
    "import pandas as pd\n",
    "import numpy as np\n",
    "\n",
    "#Input\n",
    "p = pd.Series([1, 2, 3, 4, 5, 6, 7, 8, 9, 10])\n",
    "q = pd.Series([10, 9, 8, 7, 6, 5, 4, 3, 2, 1])\n",
    "\n",
    "def euclidean_distance(series1, series2):         #Define a funtion to calculate the Euclidean Distance\n",
    "    difference_squared = (series1 - series2) **2  #Subtract the points from each other and then square each value \n",
    "    difference_summed = difference_squared.sum()  #Sum the squared difference of each point\n",
    "    return np.sqrt(difference_summed)             #Square root the summed values\n",
    "\n",
    "\n",
    "distance = euclidean_distance(p, q)               #Define the inputs for the function\n",
    "print('The Euclidean distance is:', distance)     "
   ]
  },
  {
   "cell_type": "code",
   "execution_count": 10,
   "id": "a39d973b-a58b-4be0-86cd-fcfe6f1500d4",
   "metadata": {},
   "outputs": [
    {
     "name": "stdout",
     "output_type": "stream",
     "text": [
      "    c   b   a   d   e\n",
      "0   2   1   0   3   4\n",
      "1   7   6   5   8   9\n",
      "2  12  11  10  13  14\n",
      "3  17  16  15  18  19\n"
     ]
    }
   ],
   "source": [
    "#Question 2 \n",
    "#Change the order of columns of a dataframe. Interchange columns 'a' and 'c'.\n",
    "\n",
    "#Input\n",
    "df = pd.DataFrame(np.arange(20).reshape(-1, 5), columns=list('abcde'))\n",
    "\n",
    "df = df[['c','b','a','d','e']] #Change the order of the columns, switching 'a' and 'c'\n",
    "print(df)"
   ]
  },
  {
   "cell_type": "code",
   "execution_count": 28,
   "id": "07c5657a-45b9-4b78-a5eb-2a3ebe1337c0",
   "metadata": {},
   "outputs": [
    {
     "name": "stdout",
     "output_type": "stream",
     "text": [
      "    c   b   a   d   e\n",
      "0   2   1   0   3   4\n",
      "1   7   6   5   8   9\n",
      "2  12  11  10  13  14\n",
      "3  17  16  15  18  19\n"
     ]
    }
   ],
   "source": [
    "#Question 3 \n",
    "#Change the order of columns of a dataframe.  Create a generic function to interchange two columns, without hardcoding column names.\n",
    "#Input\n",
    "\n",
    "df = pd.DataFrame(np.arange(20).reshape(-1, 5), columns=list('abcde'))\n",
    "\n",
    "def change_columns(dataframe, column1, column2):                        #Define a function to swap columns\n",
    "    columns = list(df.columns)                                          #Define the current arrangement of columns \n",
    "    index1, index2 = columns.index(column1), columns.index(column2)     #Locate the current indices of the columns to be swapped\n",
    "    columns[index1], columns[index2] = columns[index2], columns[index1] #Swap the indices of the columns\n",
    "    return df[columns]                                                  #Return the dataframe with the swapped columns\n",
    "\n",
    "Swapped_columns = change_columns(df, 'a', 'c')                          #Define the inputs for the function\n",
    "print(Swapped_columns)"
   ]
  },
  {
   "cell_type": "code",
   "execution_count": 26,
   "id": "0c39bfc0-f0c6-4424-ad3e-95476165e826",
   "metadata": {},
   "outputs": [
    {
     "name": "stdout",
     "output_type": "stream",
     "text": [
      "   random\n",
      "0  0.0067\n",
      "1  0.0024\n",
      "2  0.0059\n",
      "3  0.0000\n"
     ]
    }
   ],
   "source": [
    "#Question 4 \n",
    "#Format or suppress scientific notations in a pandas dataframe. Suppress scientific notations like ‘e-03’ in df and print up to 4 numbers after decimal.\n",
    "\n",
    "#Input\n",
    "df = pd.DataFrame(np.random.random(4)**10, columns=['random'])\n",
    "\n",
    "pd.set_option('display.float_format', '{:.4f}'.format)  #Suppress the scientific notation\n",
    "df = df.round(4)                                        #Round the answer to 4 decimal places\n",
    "print(df)"
   ]
  },
  {
   "cell_type": "code",
   "execution_count": 50,
   "id": "7d9d7d6c-4eb1-46e9-941b-63f04aa2b0e6",
   "metadata": {},
   "outputs": [
    {
     "name": "stdout",
     "output_type": "stream",
     "text": [
      "    p   q   r   s nearest_row    dist\n",
      "a   8  54  61  83           j 56.1516\n",
      "b  59  44  41  37           f 52.1920\n",
      "c  11  25  68   4           f 46.5725\n",
      "d  98  87   9  24           b 67.5500\n",
      "e  86  11  90   8           b 71.1337\n",
      "f  24  33  24   4           c 46.5725\n",
      "g  22  88  18  20           f 57.6281\n",
      "h  59   3  18  98           i 66.1362\n",
      "i  77  55  53  87           b 55.5788\n",
      "j  20  10  68  51           c 50.1498\n"
     ]
    }
   ],
   "source": [
    "#Question 5 \n",
    "#Create a new column that contains the row number of nearest column by euclidean distance. Create a new column such that, each row contains the row number of nearest row-record by euclidean distance.\n",
    "\n",
    "df = pd.DataFrame(np.random.randint(1, 100, 40).reshape(10, -1), columns=list('pqrs'), index=list('abcdefghij'))\n",
    "\n",
    "def euclidean_distance2(row1, row2):                           #Define the Euclidean distance function                         \n",
    "    return np.sqrt(np.sum((row1 - row2) ** 2))                 #Calculate the Euclidean distance                 \n",
    "\n",
    "def nearest_row(df):                                           #Function to find the nearest row and its distance                                       \n",
    "    nearest_indices = []                                       #List to store nearest indices                                     \n",
    "    distances = []                                             #List to store nearest distance\n",
    "    \n",
    "    for i, row in df.iterrows():                                                           \n",
    "        min_distance = np.inf                                  #Initialize min distance\n",
    "        nearest_index = None                                   #Initialize nearest index\n",
    "        \n",
    "        for j, other_row in df.iterrows():                     \n",
    "            if i != j:                                         #Avoid distance to itself\n",
    "                distance = euclidean_distance2(row, other_row)  \n",
    "                if distance < min_distance:                    #Update nearest row and distance\n",
    "                    min_distance = distance\n",
    "                    nearest_index = j\n",
    "        \n",
    "        nearest_indices.append(nearest_index)                  #Append the nearest index\n",
    "        distances.append(min_distance)                         #Append the minimum distance\n",
    "    \n",
    "    return nearest_indices, distances                          #Return both list\n",
    "\n",
    "df['nearest_row'], df['dist'] = nearest_row(df)                #Create new columns for nearest_row and euclidean distance\n",
    "\n",
    "print(df)"
   ]
  },
  {
   "cell_type": "code",
   "execution_count": 52,
   "id": "ce325be3-498c-4870-b7db-4ce2bd3ee139",
   "metadata": {},
   "outputs": [
    {
     "name": "stdout",
     "output_type": "stream",
     "text": [
      "       A      B      C      D      E\n",
      "A 1.0000 0.7560 0.6244 0.4938 0.9286\n",
      "B 0.7560 1.0000 0.9667 0.3636 0.6496\n",
      "C 0.6244 0.9667 1.0000 0.2189 0.5281\n",
      "D 0.4938 0.3636 0.2189 1.0000 0.7202\n",
      "E 0.9286 0.6496 0.5281 0.7202 1.0000\n"
     ]
    }
   ],
   "source": [
    "#Question 6 \n",
    "#Correlation is a statistical technique that shows how two variables are related. Pandas dataframe.corr() method is used for creating the correlation matrix. It is used to find the pairwise correlation of all columns in the dataframe. Any na values are automatically excluded. For any non-numeric data type columns in the dataframe it is ignored.\n",
    "\n",
    "#Input\n",
    "data = {'A': [45, 37, 0, 42, 50],\n",
    "        'B': [38, 31, 1, 26, 90],\n",
    "        'C': [10, 15, -10, 17, 100],\n",
    "        'D': [60, 99, 15, 23, 56],\n",
    "        'E': [76, 98, -0.03, 78, 90]\n",
    "        }\n",
    "\n",
    "df = pd.DataFrame(data)        #Put the data into a Dataframe\n",
    "correlation_matrix = df.corr() #Use the correlation function to create a correlation matrix\n",
    "\n",
    "print(correlation_matrix)"
   ]
  },
  {
   "cell_type": "code",
   "execution_count": null,
   "id": "7a87be62-9791-46b4-9de4-596eae4fd990",
   "metadata": {},
   "outputs": [],
   "source": []
  }
 ],
 "metadata": {
  "kernelspec": {
   "display_name": "Python 3 (ipykernel)",
   "language": "python",
   "name": "python3"
  },
  "language_info": {
   "codemirror_mode": {
    "name": "ipython",
    "version": 3
   },
   "file_extension": ".py",
   "mimetype": "text/x-python",
   "name": "python",
   "nbconvert_exporter": "python",
   "pygments_lexer": "ipython3",
   "version": "3.12.7"
  }
 },
 "nbformat": 4,
 "nbformat_minor": 5
}
