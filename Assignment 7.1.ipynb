{
 "cells": [
  {
   "cell_type": "code",
   "execution_count": 179,
   "id": "981a1d47-04bf-4ac4-ad3a-65871a67bfad",
   "metadata": {},
   "outputs": [],
   "source": [
    "#%% Libraries\n",
    "import pandas as pd\n",
    "import matplotlib.pyplot as plt\n",
    "import numpy as np\n",
    "\n",
    "#%% Importing Data\n",
    "flights_data = pd.read_csv('flights.csv')\n",
    "flights_data.head(10)\n",
    "weather_data_pd = pd.read_csv('weather.csv')\n",
    "weather_data_np = weather_data_pd.to_numpy()"
   ]
  },
  {
   "cell_type": "code",
   "execution_count": 180,
   "id": "b4a25f20-c73f-4ee2-beaf-ed5c6f89367d",
   "metadata": {},
   "outputs": [
    {
     "name": "stdout",
     "output_type": "stream",
     "text": [
      "2113\n"
     ]
    }
   ],
   "source": [
    "#%% Pandas Data Filtering/Sorting Question Answering\n",
    "#use flights_data\n",
    "#Question 1 How many flights were there from JFK to SLC? Int\n",
    "\n",
    "q_1 = len(flights_data.loc[(flights_data['origin'] == 'JFK') & (flights_data['dest'] == 'SLC')]) #Filters flights from JFK to destination of SLC. len() function counts the number of applicable flights\n",
    "print(q_1)"
   ]
  },
  {
   "cell_type": "code",
   "execution_count": 181,
   "id": "f4c7405d-8470-4df7-a87e-d8cbdbc7b99e",
   "metadata": {},
   "outputs": [
    {
     "name": "stdout",
     "output_type": "stream",
     "text": [
      "2\n"
     ]
    }
   ],
   "source": [
    "#Question 2 How many airlines fly to SLC? Should be int\n",
    "\n",
    "flights_to_SLC = flights_data.loc[flights_data['dest'] == 'SLC'] #Finds the flights flying to SLC\n",
    "q_2 = flights_to_SLC['carrier'].nunique()                        #Finds the number of unique carriers that fly into SLC\n",
    "print(q_2)"
   ]
  },
  {
   "cell_type": "code",
   "execution_count": 182,
   "id": "e8e274aa-4525-4604-9340-c66c70486cc2",
   "metadata": {},
   "outputs": [
    {
     "name": "stdout",
     "output_type": "stream",
     "text": [
      "10.052380952380952\n"
     ]
    }
   ],
   "source": [
    "#Question 3 What is the average arrival delay for flights to RDU? float\n",
    "\n",
    "flights_to_RDU = flights_data.loc[flights_data['dest'] == \"RDU\"]  #Finds the flights that fly to RDU\n",
    "q_3 = flights_to_RDU['arr_delay'].mean()                          #Finds the average arrival delay for the flights to RDU\n",
    "print(q_3)"
   ]
  },
  {
   "cell_type": "code",
   "execution_count": 183,
   "id": "18101e58-afa3-4970-ad23-f2442f5b74f1",
   "metadata": {},
   "outputs": [
    {
     "name": "stdout",
     "output_type": "stream",
     "text": [
      "0.5332653581442773\n"
     ]
    }
   ],
   "source": [
    "#Question 4 What proportion of flights to SEA come from the two NYC airports (LGA and JFK)?  float\n",
    "\n",
    "flights_to_SEA = flights_data.loc[flights_data['dest'] == 'SEA']  #Finds all flights to SEA\n",
    "SEA_from_NYC = flights_to_SEA.loc[(flights_to_SEA['origin'] == 'LGA') | (flights_to_SEA['origin'] == 'JFK')] #Finds flights to SEA that are from NYC airports\n",
    "q_4 = len(SEA_from_NYC)/len(flights_to_SEA)                       #Calculates the proportion of flights to SEA that are from NYC\n",
    "print(q_4)"
   ]
  },
  {
   "cell_type": "code",
   "execution_count": 184,
   "id": "43f2d75d-56e0-4431-b6b9-9d3adeac3ffb",
   "metadata": {},
   "outputs": [
    {
     "name": "stdout",
     "output_type": "stream",
     "text": [
      "The largest average departure delay was 83.5369211514393 on 2013/3/8\n"
     ]
    }
   ],
   "source": [
    "#Question 5 Which date has the largest average departure delay? Pd slice with date and float\n",
    "#please make date a column. Preferred format is 2013/1/1 (y/m/d)\n",
    "\n",
    "flights_data['date'] = flights_data['year'].astype(str) + '/' + flights_data['month'].astype(str) + '/' + flights_data['day'].astype(str) #Creat a new column using year, month, and day\n",
    "avg_delay = flights_data.groupby('date')['dep_delay'].mean() #Find the average departure delay for each date\n",
    "max_delay_date = avg_delay.idxmax()                          #Find the date with the longest average departure delay time\n",
    "max_delay_time = avg_delay.max()                             #Find the value of the longest average departure delay time\n",
    "max_delay_time_str = str(max_delay_time)                     #Convert the delay value to a string\n",
    "q_5 = 'The largest average departure delay was' + ' ' + max_delay_time_str + ' ' + 'on' + ' ' + max_delay_date #Put the max average departure date and time together in a sentence\n",
    "print(q_5)"
   ]
  },
  {
   "cell_type": "code",
   "execution_count": 185,
   "id": "52295720-c04a-4618-a893-5596bbad24df",
   "metadata": {},
   "outputs": [
    {
     "name": "stdout",
     "output_type": "stream",
     "text": [
      "The largest average arrival delay was 85.86215538847118 on 2013/3/8\n"
     ]
    }
   ],
   "source": [
    "#Question 6 Which date has the largest average arrival delay? pd slice with date and float\n",
    "\n",
    "avg_arr_delay = flights_data.groupby('date')['arr_delay'].mean() #Calculate the average arrival delay for each date\n",
    "max_arr_delay_date = avg_arr_delay.idxmax()                      #Find the date with the largest average arrival delay\n",
    "max_arr_delay_time = avg_arr_delay.max()                         #Find the value of the largest average arrival delay\n",
    "max_arr_delay_time_str = str(max_arr_delay_time)                 #Convert the value to a string\n",
    "q_6 = 'The largest average arrival delay was' + ' ' + max_arr_delay_time_str + ' ' + 'on' + ' ' + max_arr_delay_date #Put the date and value into a sentence\n",
    "print(q_6)"
   ]
  },
  {
   "cell_type": "code",
   "execution_count": 186,
   "id": "c7f07147-eccd-41ae-87a0-3bca0c0e1aa3",
   "metadata": {},
   "outputs": [
    {
     "name": "stdout",
     "output_type": "stream",
     "text": [
      "The fastest flight was tailnumber N666DN that flew at speed 11.723076923076922\n"
     ]
    }
   ],
   "source": [
    "#Question 7 Which flight departing LGA or JFK in 2013 flew the fastest? pd slice with tailnumber and speed\n",
    "#speed = distance/airtime\n",
    "\n",
    "flights_data['speed'] = flights_data['distance'] / flights_data['air_time'] #Create a column for speed as distnace/air time\n",
    "departing_LGA_JFK = flights_data.loc[(flights_data['origin'] == 'LGA') | (flights_data['origin'] == \"JFK\")] #Find flights departing either LGA or JFK\n",
    "fastest_flight_index = departing_LGA_JFK['speed'].idxmax()                  #Find the index of the flight with the fastest speed\n",
    "fastest_flight = departing_LGA_JFK.loc[fastest_flight_index, 'tailnum']     #Find the tailnumber using the index\n",
    "fastest_speed = departing_LGA_JFK['speed'].max()                            #Find the value of the fastest speed\n",
    "fastest_speed_str = str(fastest_speed)                                      #Convert value to a string\n",
    "q_7 = 'The fastest flight was tailnumber' + ' ' + fastest_flight + ' ' + 'that flew at speed' + ' ' + fastest_speed_str\n",
    "print(q_7)"
   ]
  },
  {
   "cell_type": "code",
   "execution_count": 187,
   "id": "bd1b2a19-7071-4dd9-8be5-43c130daca22",
   "metadata": {
    "scrolled": true
   },
   "outputs": [
    {
     "name": "stdout",
     "output_type": "stream",
     "text": [
      "there are no nans in the dataframe\n"
     ]
    }
   ],
   "source": [
    "#Question 8 Replace all nans in the weather pd dataframe with 0s. Pd with no nans\n",
    "\n",
    "weather_data_pd.fillna(0, inplace = True)       #Replace all nans with 0\n",
    "if weather_data_pd.isna().any().any():          #Search for any nan values within the dataset\n",
    "    print('there are nans in the dataframe')    #Print this if any nans\n",
    "else:                                           #Execute this if no nans\n",
    "    print('there are no nans in the dataframe') #Print this is no nans"
   ]
  },
  {
   "cell_type": "code",
   "execution_count": 188,
   "id": "dba61c1a-a014-486a-b573-566a9b91faf6",
   "metadata": {},
   "outputs": [
    {
     "name": "stdout",
     "output_type": "stream",
     "text": [
      "671\n"
     ]
    }
   ],
   "source": [
    "#%% Numpy Data Filtering/Sorting Question Answering\n",
    "#Use weather_data_np\n",
    "#Question 9 How many observations were made in Feburary? Int\n",
    "\n",
    "february_obs = weather_data_np[weather_data_np[:, 3] == 2] #Search the month column for any values of 2 (February)\n",
    "q_9 = len(february_obs)                                    #Count the number of observations in February\n",
    "print(q_9)"
   ]
  },
  {
   "cell_type": "code",
   "execution_count": 189,
   "id": "d5d1a195-f919-428e-b07b-ccd89936b70b",
   "metadata": {},
   "outputs": [
    {
     "name": "stdout",
     "output_type": "stream",
     "text": [
      "62.91815201192251\n"
     ]
    }
   ],
   "source": [
    "#Question 10 What was the mean for humidity in February? Float\n",
    "\n",
    "feb_humidity = february_obs[:, 8].astype(float) #Access the humidity column of February observations and make values floats\n",
    "q_10 = feb_humidity.mean()                      #Calculate the average of all humidity observations in February\n",
    "print(q_10)"
   ]
  },
  {
   "cell_type": "code",
   "execution_count": 190,
   "id": "a895968f-35d7-46e0-8600-062f328fadb5",
   "metadata": {},
   "outputs": [
    {
     "name": "stdout",
     "output_type": "stream",
     "text": [
      "20.33690087674334\n"
     ]
    }
   ],
   "source": [
    "#Question 11 What was the std for humidity in February? Float\n",
    "\n",
    "q_11 = feb_humidity.std() #Calculate the standard deviation for all humidity observations in February\n",
    "print(q_11)"
   ]
  }
 ],
 "metadata": {
  "kernelspec": {
   "display_name": "Python 3 (ipykernel)",
   "language": "python",
   "name": "python3"
  },
  "language_info": {
   "codemirror_mode": {
    "name": "ipython",
    "version": 3
   },
   "file_extension": ".py",
   "mimetype": "text/x-python",
   "name": "python",
   "nbconvert_exporter": "python",
   "pygments_lexer": "ipython3",
   "version": "3.12.7"
  }
 },
 "nbformat": 4,
 "nbformat_minor": 5
}
