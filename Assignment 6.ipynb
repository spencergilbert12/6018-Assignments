{
 "cells": [
  {
   "cell_type": "code",
   "execution_count": 30,
   "id": "f8d0fb24-5cff-40f8-a4e6-20c408f31a5c",
   "metadata": {},
   "outputs": [
    {
     "name": "stdout",
     "output_type": "stream",
     "text": [
      "2.1.2\n"
     ]
    }
   ],
   "source": [
    "#1. Import numpy as np and print the version number. (5 Points)\n",
    "\n",
    "import numpy as np    #Import numpy\n",
    "\n",
    "print(np.__version__) #Print numpy version number"
   ]
  },
  {
   "cell_type": "code",
   "execution_count": 37,
   "id": "167ec519-3a7c-4514-a8e9-0c8aee59ed02",
   "metadata": {},
   "outputs": [
    {
     "name": "stdout",
     "output_type": "stream",
     "text": [
      "[0 1 2 3 4 5 6 7 8 9]\n"
     ]
    }
   ],
   "source": [
    "#2. Create a 1D array of numbers from 0 to 9. Desired output: #> array([0, 1, 2, 3, 4, 5, 6, 7, 8, 9]) (10 Points)\n",
    "\n",
    "arr = np.array([0,1,2,3,4,5,6,7,8,9]) #Create a 1D array with numbers from 0-9 as variable \"arr\"\n",
    "\n",
    "print(arr)                            #Print array"
   ]
  },
  {
   "cell_type": "code",
   "execution_count": 54,
   "id": "a3d03675-4c53-4240-84ed-e909fdb124e4",
   "metadata": {},
   "outputs": [
    {
     "name": "stdout",
     "output_type": "stream",
     "text": [
      "[(5.1, 3.5, 1.4, 0.2, 'Iris-setosa') (4.9, 3. , 1.4, 0.2, 'Iris-setosa')\n",
      " (4.7, 3.2, 1.3, 0.2, 'Iris-setosa') (4.6, 3.1, 1.5, 0.2, 'Iris-setosa')\n",
      " (5. , 3.6, 1.4, 0.2, 'Iris-setosa') (5.4, 3.9, 1.7, 0.4, 'Iris-setosa')\n",
      " (4.6, 3.4, 1.4, 0.3, 'Iris-setosa') (5. , 3.4, 1.5, 0.2, 'Iris-setosa')\n",
      " (4.4, 2.9, 1.4, 0.2, 'Iris-setosa') (4.9, 3.1, 1.5, 0.1, 'Iris-setosa')\n",
      " (5.4, 3.7, 1.5, 0.2, 'Iris-setosa') (4.8, 3.4, 1.6, 0.2, 'Iris-setosa')\n",
      " (4.8, 3. , 1.4, 0.1, 'Iris-setosa') (4.3, 3. , 1.1, 0.1, 'Iris-setosa')\n",
      " (5.8, 4. , 1.2, 0.2, 'Iris-setosa') (5.7, 4.4, 1.5, 0.4, 'Iris-setosa')\n",
      " (5.4, 3.9, 1.3, 0.4, 'Iris-setosa') (5.1, 3.5, 1.4, 0.3, 'Iris-setosa')\n",
      " (5.7, 3.8, 1.7, 0.3, 'Iris-setosa') (5.1, 3.8, 1.5, 0.3, 'Iris-setosa')\n",
      " (5.4, 3.4, 1.7, 0.2, 'Iris-setosa') (5.1, 3.7, 1.5, 0.4, 'Iris-setosa')\n",
      " (4.6, 3.6, 1. , 0.2, 'Iris-setosa') (5.1, 3.3, 1.7, 0.5, 'Iris-setosa')\n",
      " (4.8, 3.4, 1.9, 0.2, 'Iris-setosa') (5. , 3. , 1.6, 0.2, 'Iris-setosa')\n",
      " (5. , 3.4, 1.6, 0.4, 'Iris-setosa') (5.2, 3.5, 1.5, 0.2, 'Iris-setosa')\n",
      " (5.2, 3.4, 1.4, 0.2, 'Iris-setosa') (4.7, 3.2, 1.6, 0.2, 'Iris-setosa')\n",
      " (4.8, 3.1, 1.6, 0.2, 'Iris-setosa') (5.4, 3.4, 1.5, 0.4, 'Iris-setosa')\n",
      " (5.2, 4.1, 1.5, 0.1, 'Iris-setosa') (5.5, 4.2, 1.4, 0.2, 'Iris-setosa')\n",
      " (4.9, 3.1, 1.5, 0.1, 'Iris-setosa') (5. , 3.2, 1.2, 0.2, 'Iris-setosa')\n",
      " (5.5, 3.5, 1.3, 0.2, 'Iris-setosa') (4.9, 3.1, 1.5, 0.1, 'Iris-setosa')\n",
      " (4.4, 3. , 1.3, 0.2, 'Iris-setosa') (5.1, 3.4, 1.5, 0.2, 'Iris-setosa')\n",
      " (5. , 3.5, 1.3, 0.3, 'Iris-setosa') (4.5, 2.3, 1.3, 0.3, 'Iris-setosa')\n",
      " (4.4, 3.2, 1.3, 0.2, 'Iris-setosa') (5. , 3.5, 1.6, 0.6, 'Iris-setosa')\n",
      " (5.1, 3.8, 1.9, 0.4, 'Iris-setosa') (4.8, 3. , 1.4, 0.3, 'Iris-setosa')\n",
      " (5.1, 3.8, 1.6, 0.2, 'Iris-setosa') (4.6, 3.2, 1.4, 0.2, 'Iris-setosa')\n",
      " (5.3, 3.7, 1.5, 0.2, 'Iris-setosa') (5. , 3.3, 1.4, 0.2, 'Iris-setosa')\n",
      " (7. , 3.2, 4.7, 1.4, 'Iris-versicolor')\n",
      " (6.4, 3.2, 4.5, 1.5, 'Iris-versicolor')\n",
      " (6.9, 3.1, 4.9, 1.5, 'Iris-versicolor')\n",
      " (5.5, 2.3, 4. , 1.3, 'Iris-versicolor')\n",
      " (6.5, 2.8, 4.6, 1.5, 'Iris-versicolor')\n",
      " (5.7, 2.8, 4.5, 1.3, 'Iris-versicolor')\n",
      " (6.3, 3.3, 4.7, 1.6, 'Iris-versicolor')\n",
      " (4.9, 2.4, 3.3, 1. , 'Iris-versicolor')\n",
      " (6.6, 2.9, 4.6, 1.3, 'Iris-versicolor')\n",
      " (5.2, 2.7, 3.9, 1.4, 'Iris-versicolor')\n",
      " (5. , 2. , 3.5, 1. , 'Iris-versicolor')\n",
      " (5.9, 3. , 4.2, 1.5, 'Iris-versicolor')\n",
      " (6. , 2.2, 4. , 1. , 'Iris-versicolor')\n",
      " (6.1, 2.9, 4.7, 1.4, 'Iris-versicolor')\n",
      " (5.6, 2.9, 3.6, 1.3, 'Iris-versicolor')\n",
      " (6.7, 3.1, 4.4, 1.4, 'Iris-versicolor')\n",
      " (5.6, 3. , 4.5, 1.5, 'Iris-versicolor')\n",
      " (5.8, 2.7, 4.1, 1. , 'Iris-versicolor')\n",
      " (6.2, 2.2, 4.5, 1.5, 'Iris-versicolor')\n",
      " (5.6, 2.5, 3.9, 1.1, 'Iris-versicolor')\n",
      " (5.9, 3.2, 4.8, 1.8, 'Iris-versicolor')\n",
      " (6.1, 2.8, 4. , 1.3, 'Iris-versicolor')\n",
      " (6.3, 2.5, 4.9, 1.5, 'Iris-versicolor')\n",
      " (6.1, 2.8, 4.7, 1.2, 'Iris-versicolor')\n",
      " (6.4, 2.9, 4.3, 1.3, 'Iris-versicolor')\n",
      " (6.6, 3. , 4.4, 1.4, 'Iris-versicolor')\n",
      " (6.8, 2.8, 4.8, 1.4, 'Iris-versicolor')\n",
      " (6.7, 3. , 5. , 1.7, 'Iris-versicolor')\n",
      " (6. , 2.9, 4.5, 1.5, 'Iris-versicolor')\n",
      " (5.7, 2.6, 3.5, 1. , 'Iris-versicolor')\n",
      " (5.5, 2.4, 3.8, 1.1, 'Iris-versicolor')\n",
      " (5.5, 2.4, 3.7, 1. , 'Iris-versicolor')\n",
      " (5.8, 2.7, 3.9, 1.2, 'Iris-versicolor')\n",
      " (6. , 2.7, 5.1, 1.6, 'Iris-versicolor')\n",
      " (5.4, 3. , 4.5, 1.5, 'Iris-versicolor')\n",
      " (6. , 3.4, 4.5, 1.6, 'Iris-versicolor')\n",
      " (6.7, 3.1, 4.7, 1.5, 'Iris-versicolor')\n",
      " (6.3, 2.3, 4.4, 1.3, 'Iris-versicolor')\n",
      " (5.6, 3. , 4.1, 1.3, 'Iris-versicolor')\n",
      " (5.5, 2.5, 4. , 1.3, 'Iris-versicolor')\n",
      " (5.5, 2.6, 4.4, 1.2, 'Iris-versicolor')\n",
      " (6.1, 3. , 4.6, 1.4, 'Iris-versicolor')\n",
      " (5.8, 2.6, 4. , 1.2, 'Iris-versicolor')\n",
      " (5. , 2.3, 3.3, 1. , 'Iris-versicolor')\n",
      " (5.6, 2.7, 4.2, 1.3, 'Iris-versicolor')\n",
      " (5.7, 3. , 4.2, 1.2, 'Iris-versicolor')\n",
      " (5.7, 2.9, 4.2, 1.3, 'Iris-versicolor')\n",
      " (6.2, 2.9, 4.3, 1.3, 'Iris-versicolor')\n",
      " (5.1, 2.5, 3. , 1.1, 'Iris-versicolor')\n",
      " (5.7, 2.8, 4.1, 1.3, 'Iris-versicolor')\n",
      " (6.3, 3.3, 6. , 2.5, 'Iris-virginica')\n",
      " (5.8, 2.7, 5.1, 1.9, 'Iris-virginica')\n",
      " (7.1, 3. , 5.9, 2.1, 'Iris-virginica')\n",
      " (6.3, 2.9, 5.6, 1.8, 'Iris-virginica')\n",
      " (6.5, 3. , 5.8, 2.2, 'Iris-virginica')\n",
      " (7.6, 3. , 6.6, 2.1, 'Iris-virginica')\n",
      " (4.9, 2.5, 4.5, 1.7, 'Iris-virginica')\n",
      " (7.3, 2.9, 6.3, 1.8, 'Iris-virginica')\n",
      " (6.7, 2.5, 5.8, 1.8, 'Iris-virginica')\n",
      " (7.2, 3.6, 6.1, 2.5, 'Iris-virginica')\n",
      " (6.5, 3.2, 5.1, 2. , 'Iris-virginica')\n",
      " (6.4, 2.7, 5.3, 1.9, 'Iris-virginica')\n",
      " (6.8, 3. , 5.5, 2.1, 'Iris-virginica')\n",
      " (5.7, 2.5, 5. , 2. , 'Iris-virginica')\n",
      " (5.8, 2.8, 5.1, 2.4, 'Iris-virginica')\n",
      " (6.4, 3.2, 5.3, 2.3, 'Iris-virginica')\n",
      " (6.5, 3. , 5.5, 1.8, 'Iris-virginica')\n",
      " (7.7, 3.8, 6.7, 2.2, 'Iris-virginica')\n",
      " (7.7, 2.6, 6.9, 2.3, 'Iris-virginica')\n",
      " (6. , 2.2, 5. , 1.5, 'Iris-virginica')\n",
      " (6.9, 3.2, 5.7, 2.3, 'Iris-virginica')\n",
      " (5.6, 2.8, 4.9, 2. , 'Iris-virginica')\n",
      " (7.7, 2.8, 6.7, 2. , 'Iris-virginica')\n",
      " (6.3, 2.7, 4.9, 1.8, 'Iris-virginica')\n",
      " (6.7, 3.3, 5.7, 2.1, 'Iris-virginica')\n",
      " (7.2, 3.2, 6. , 1.8, 'Iris-virginica')\n",
      " (6.2, 2.8, 4.8, 1.8, 'Iris-virginica')\n",
      " (6.1, 3. , 4.9, 1.8, 'Iris-virginica')\n",
      " (6.4, 2.8, 5.6, 2.1, 'Iris-virginica')\n",
      " (7.2, 3. , 5.8, 1.6, 'Iris-virginica')\n",
      " (7.4, 2.8, 6.1, 1.9, 'Iris-virginica')\n",
      " (7.9, 3.8, 6.4, 2. , 'Iris-virginica')\n",
      " (6.4, 2.8, 5.6, 2.2, 'Iris-virginica')\n",
      " (6.3, 2.8, 5.1, 1.5, 'Iris-virginica')\n",
      " (6.1, 2.6, 5.6, 1.4, 'Iris-virginica')\n",
      " (7.7, 3. , 6.1, 2.3, 'Iris-virginica')\n",
      " (6.3, 3.4, 5.6, 2.4, 'Iris-virginica')\n",
      " (6.4, 3.1, 5.5, 1.8, 'Iris-virginica')\n",
      " (6. , 3. , 4.8, 1.8, 'Iris-virginica')\n",
      " (6.9, 3.1, 5.4, 2.1, 'Iris-virginica')\n",
      " (6.7, 3.1, 5.6, 2.4, 'Iris-virginica')\n",
      " (6.9, 3.1, 5.1, 2.3, 'Iris-virginica')\n",
      " (5.8, 2.7, 5.1, 1.9, 'Iris-virginica')\n",
      " (6.8, 3.2, 5.9, 2.3, 'Iris-virginica')\n",
      " (6.7, 3.3, 5.7, 2.5, 'Iris-virginica')\n",
      " (6.7, 3. , 5.2, 2.3, 'Iris-virginica')\n",
      " (6.3, 2.5, 5. , 1.9, 'Iris-virginica')\n",
      " (6.5, 3. , 5.2, 2. , 'Iris-virginica')\n",
      " (6.2, 3.4, 5.4, 2.3, 'Iris-virginica')\n",
      " (5.9, 3. , 5.1, 1.8, 'Iris-virginica')]\n"
     ]
    }
   ],
   "source": [
    "#3. Import a dataset with numbers and texts keeping the text intact in python numpy. (20 Points)\n",
    "col_types = dt = np.dtype([('col1', np.float64), ('col2', np.float64), ('col3', np.float64),('col4', np.float64), ('col5', np.str_, 16)]) #This line will assign each column in the dataset as either a float or a string object\n",
    "\n",
    "dataset = np.genfromtxt(\"https://archive.ics.uci.edu/ml/machine-learning-databases/iris/iris.data\", delimiter=',', dtype=col_types) #This line imports the data from the url, separate them with a \",\", and assigns the column types\n",
    "\n",
    "print(dataset) #Print dataset"
   ]
  },
  {
   "cell_type": "code",
   "execution_count": 61,
   "id": "f7823b0b-8a94-4398-b4c5-9e7738db1398",
   "metadata": {},
   "outputs": [
    {
     "name": "stdout",
     "output_type": "stream",
     "text": [
      "The first row with a petal width greater than 1.0 is row: 50\n"
     ]
    }
   ],
   "source": [
    "#4. Find the position of the first occurrence of a value greater than 1.0 in petalwidth 4th column of iris dataset. (20 points)\n",
    "\n",
    "petal_width = (dataset['col4'] > 1.0).argmax()                 #This line will search column 4 of the dataset for the first value that is greater than 1.0\n",
    "print(\"The first row with a petal width greater than 1.0 is row:\", petal_width) #Print the row with the first occurrence of a petal width greater than 1.0"
   ]
  },
  {
   "cell_type": "code",
   "execution_count": 16,
   "id": "570f2c98-aaae-4c8c-865e-816e2ab8bbd5",
   "metadata": {},
   "outputs": [
    {
     "name": "stdout",
     "output_type": "stream",
     "text": [
      "[27.62684215 14.64009987 21.80136195 30.         10.         10.\n",
      " 30.         30.         10.         29.17957314 30.         11.25090398\n",
      " 10.08108276 10.         11.76517714 30.         30.         10.\n",
      " 30.         14.42961361]\n"
     ]
    }
   ],
   "source": [
    "#5. From the array a, replace all values greater than 30 to 30 and less than 10 to 10. (20 points)\n",
    "\n",
    "Input: np.random.seed(100) \n",
    "a = np.random.uniform(1,50, 20)\n",
    "\n",
    "for x in range(len(a)): #Create a loop to search through the elements of a\n",
    "    if a[x] > 30:       #Create an if condition for if the element is greater than 30\n",
    "        a[x] = 30       #If the element is greater than 30, than replace it with 30\n",
    "    elif a[x] < 10:     #Create another if condition for if the element is less than 10\n",
    "        a[x] = 10       #If the element is less than 10, than replace it with 10\n",
    "    \n",
    "print(a)                #Print a"
   ]
  },
  {
   "cell_type": "code",
   "execution_count": null,
   "id": "298da6d9-c389-42be-9181-dd0e947fbe80",
   "metadata": {},
   "outputs": [],
   "source": []
  }
 ],
 "metadata": {
  "kernelspec": {
   "display_name": "Python 3 (ipykernel)",
   "language": "python",
   "name": "python3"
  },
  "language_info": {
   "codemirror_mode": {
    "name": "ipython",
    "version": 3
   },
   "file_extension": ".py",
   "mimetype": "text/x-python",
   "name": "python",
   "nbconvert_exporter": "python",
   "pygments_lexer": "ipython3",
   "version": "3.12.7"
  }
 },
 "nbformat": 4,
 "nbformat_minor": 5
}
